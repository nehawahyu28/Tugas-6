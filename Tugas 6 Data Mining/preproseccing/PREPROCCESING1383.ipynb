{
 "cells": [
  {
   "cell_type": "code",
   "execution_count": 39,
   "id": "bb1c3b65",
   "metadata": {},
   "outputs": [],
   "source": [
    "import numpy as np\n",
    "import matplotlib.pyplot as plt\n",
    "import pandas as pd"
   ]
  },
  {
   "cell_type": "code",
   "execution_count": 40,
   "id": "3b87a712",
   "metadata": {},
   "outputs": [],
   "source": [
    "dataset = pd.read_csv('videos-stats.csv')\n",
    "x = dataset.iloc[:5, :7].values\n",
    "y = dataset.iloc[:5,  -1].values"
   ]
  },
  {
   "cell_type": "code",
   "execution_count": 41,
   "id": "0f1fe8a3",
   "metadata": {},
   "outputs": [
    {
     "name": "stdout",
     "output_type": "stream",
     "text": [
      "[[0\n",
      "  'Apple Pay Is Killing the Physical Wallet After Only Eight Years | Tech News Briefing Podcast | WSJ'\n",
      "  'wAZZ-UWGVHI' '2022-08-23' 'tech' 3407.0 672.0]\n",
      " [1 'The most EXPENSIVE thing I own.' 'b3x28s61q3c' '2022-08-24' 'tech'\n",
      "  76779.0 4306.0]\n",
      " [2 'My New House Gaming Setup is SICK!' '4mgePWWCAmA' '2022-08-23'\n",
      "  'tech' 63825.0 3338.0]\n",
      " [3\n",
      "  'Petrol Vs Liquid Nitrogen | Freezing Experiment | പെട്രോളിനെ ഐസ് ആകാൻ പറ്റുമോ | M4 Tech |'\n",
      "  'kXiYSI7H2b0' '2022-08-23' 'tech' 71566.0 1426.0]\n",
      " [4 'Best Back to School Tech 2022!' 'ErMwWXQxHp0' '2022-08-08' 'tech'\n",
      "  96513.0 5155.0]]\n"
     ]
    }
   ],
   "source": [
    "print(x)"
   ]
  },
  {
   "cell_type": "code",
   "execution_count": 42,
   "id": "78c67b10",
   "metadata": {},
   "outputs": [
    {
     "name": "stdout",
     "output_type": "stream",
     "text": [
      "[ 135612. 1758063. 1564007.  922918. 1855644.]\n"
     ]
    }
   ],
   "source": [
    "print(y)"
   ]
  },
  {
   "cell_type": "code",
   "execution_count": 43,
   "id": "7bad8d63",
   "metadata": {},
   "outputs": [],
   "source": [
    "from sklearn.impute import SimpleImputer\n",
    "imputer = SimpleImputer(missing_values=np.nan, strategy='mean')\n",
    "imputer.fit(x[:, 5:7])\n",
    "x[:, 5:7] = imputer.transform(x[:, 5:7])"
   ]
  },
  {
   "cell_type": "code",
   "execution_count": 44,
   "id": "cbe00ac4",
   "metadata": {},
   "outputs": [
    {
     "name": "stdout",
     "output_type": "stream",
     "text": [
      "[[0\n",
      "  'Apple Pay Is Killing the Physical Wallet After Only Eight Years | Tech News Briefing Podcast | WSJ'\n",
      "  'wAZZ-UWGVHI' '2022-08-23' 'tech' 3407.0 672.0]\n",
      " [1 'The most EXPENSIVE thing I own.' 'b3x28s61q3c' '2022-08-24' 'tech'\n",
      "  76779.0 4306.0]\n",
      " [2 'My New House Gaming Setup is SICK!' '4mgePWWCAmA' '2022-08-23'\n",
      "  'tech' 63825.0 3338.0]\n",
      " [3\n",
      "  'Petrol Vs Liquid Nitrogen | Freezing Experiment | പെട്രോളിനെ ഐസ് ആകാൻ പറ്റുമോ | M4 Tech |'\n",
      "  'kXiYSI7H2b0' '2022-08-23' 'tech' 71566.0 1426.0]\n",
      " [4 'Best Back to School Tech 2022!' 'ErMwWXQxHp0' '2022-08-08' 'tech'\n",
      "  96513.0 5155.0]]\n"
     ]
    }
   ],
   "source": [
    "print(x)"
   ]
  },
  {
   "cell_type": "code",
   "execution_count": 45,
   "id": "f2c124b1",
   "metadata": {},
   "outputs": [],
   "source": [
    "from sklearn.compose import ColumnTransformer\n",
    "from sklearn.preprocessing import OneHotEncoder\n",
    "ct = ColumnTransformer(transformers=[('encoder', OneHotEncoder(), [0])], remainder='passthrough')\n",
    "x = np.array(ct.fit_transform(x))"
   ]
  },
  {
   "cell_type": "code",
   "execution_count": 46,
   "id": "1d6b6607",
   "metadata": {},
   "outputs": [
    {
     "name": "stdout",
     "output_type": "stream",
     "text": [
      "[[1.0 0.0 0.0 0.0 0.0\n",
      "  'Apple Pay Is Killing the Physical Wallet After Only Eight Years | Tech News Briefing Podcast | WSJ'\n",
      "  'wAZZ-UWGVHI' '2022-08-23' 'tech' 3407.0 672.0]\n",
      " [0.0 1.0 0.0 0.0 0.0 'The most EXPENSIVE thing I own.' 'b3x28s61q3c'\n",
      "  '2022-08-24' 'tech' 76779.0 4306.0]\n",
      " [0.0 0.0 1.0 0.0 0.0 'My New House Gaming Setup is SICK!' '4mgePWWCAmA'\n",
      "  '2022-08-23' 'tech' 63825.0 3338.0]\n",
      " [0.0 0.0 0.0 1.0 0.0\n",
      "  'Petrol Vs Liquid Nitrogen | Freezing Experiment | പെട്രോളിനെ ഐസ് ആകാൻ പറ്റുമോ | M4 Tech |'\n",
      "  'kXiYSI7H2b0' '2022-08-23' 'tech' 71566.0 1426.0]\n",
      " [0.0 0.0 0.0 0.0 1.0 'Best Back to School Tech 2022!' 'ErMwWXQxHp0'\n",
      "  '2022-08-08' 'tech' 96513.0 5155.0]]\n"
     ]
    }
   ],
   "source": [
    "print(x)"
   ]
  },
  {
   "cell_type": "code",
   "execution_count": 47,
   "id": "2ff6f673",
   "metadata": {},
   "outputs": [],
   "source": [
    "from sklearn.preprocessing import LabelEncoder\n",
    "le = LabelEncoder()\n",
    "y = le.fit_transform(y)"
   ]
  },
  {
   "cell_type": "code",
   "execution_count": 48,
   "id": "0ec0a414",
   "metadata": {},
   "outputs": [
    {
     "name": "stdout",
     "output_type": "stream",
     "text": [
      "[0 3 2 1 4]\n"
     ]
    }
   ],
   "source": [
    "print(y)"
   ]
  },
  {
   "cell_type": "code",
   "execution_count": 49,
   "id": "8d7f625e",
   "metadata": {},
   "outputs": [],
   "source": [
    "from sklearn.model_selection import train_test_split\n",
    "x_train, x_test, y_train, y_test = train_test_split(x, y, test_size=0.2, random_state=1)"
   ]
  },
  {
   "cell_type": "code",
   "execution_count": 50,
   "id": "a530a9f0",
   "metadata": {},
   "outputs": [
    {
     "name": "stdout",
     "output_type": "stream",
     "text": [
      "[[0.0 1.0 0.0 0.0 0.0 'The most EXPENSIVE thing I own.' 'b3x28s61q3c'\n",
      "  '2022-08-24' 'tech' 76779.0 4306.0]\n",
      " [0.0 0.0 0.0 0.0 1.0 'Best Back to School Tech 2022!' 'ErMwWXQxHp0'\n",
      "  '2022-08-08' 'tech' 96513.0 5155.0]\n",
      " [1.0 0.0 0.0 0.0 0.0\n",
      "  'Apple Pay Is Killing the Physical Wallet After Only Eight Years | Tech News Briefing Podcast | WSJ'\n",
      "  'wAZZ-UWGVHI' '2022-08-23' 'tech' 3407.0 672.0]\n",
      " [0.0 0.0 0.0 1.0 0.0\n",
      "  'Petrol Vs Liquid Nitrogen | Freezing Experiment | പെട്രോളിനെ ഐസ് ആകാൻ പറ്റുമോ | M4 Tech |'\n",
      "  'kXiYSI7H2b0' '2022-08-23' 'tech' 71566.0 1426.0]]\n"
     ]
    }
   ],
   "source": [
    "print(x_train)"
   ]
  },
  {
   "cell_type": "code",
   "execution_count": 51,
   "id": "666e427b",
   "metadata": {},
   "outputs": [
    {
     "name": "stdout",
     "output_type": "stream",
     "text": [
      "[[0.0 0.0 1.0 0.0 0.0 'My New House Gaming Setup is SICK!' '4mgePWWCAmA'\n",
      "  '2022-08-23' 'tech' 63825.0 3338.0]]\n"
     ]
    }
   ],
   "source": [
    "print(x_test)"
   ]
  },
  {
   "cell_type": "code",
   "execution_count": 52,
   "id": "e6ec97de",
   "metadata": {},
   "outputs": [
    {
     "name": "stdout",
     "output_type": "stream",
     "text": [
      "[3 4 0 1]\n"
     ]
    }
   ],
   "source": [
    "print(y_train)"
   ]
  },
  {
   "cell_type": "code",
   "execution_count": 53,
   "id": "41b983ac",
   "metadata": {},
   "outputs": [
    {
     "name": "stdout",
     "output_type": "stream",
     "text": [
      "[2]\n"
     ]
    }
   ],
   "source": [
    "print(y_test)"
   ]
  },
  {
   "cell_type": "code",
   "execution_count": 54,
   "id": "5edb042b",
   "metadata": {},
   "outputs": [],
   "source": [
    "from sklearn.preprocessing import StandardScaler\n",
    "sc = StandardScaler()\n",
    "x_train[:, 2:4] = sc.fit_transform(x_train[:, 2:4])\n",
    "x_test[:, 2:4] = sc.transform(x_test[:, 2:4])"
   ]
  },
  {
   "cell_type": "code",
   "execution_count": 55,
   "id": "287a5e9d",
   "metadata": {},
   "outputs": [
    {
     "name": "stdout",
     "output_type": "stream",
     "text": [
      "[[0.0 1.0 0.0 -0.5773502691896258 0.0 'The most EXPENSIVE thing I own.'\n",
      "  'b3x28s61q3c' '2022-08-24' 'tech' 76779.0 4306.0]\n",
      " [0.0 0.0 0.0 -0.5773502691896258 1.0 'Best Back to School Tech 2022!'\n",
      "  'ErMwWXQxHp0' '2022-08-08' 'tech' 96513.0 5155.0]\n",
      " [1.0 0.0 0.0 -0.5773502691896258 0.0\n",
      "  'Apple Pay Is Killing the Physical Wallet After Only Eight Years | Tech News Briefing Podcast | WSJ'\n",
      "  'wAZZ-UWGVHI' '2022-08-23' 'tech' 3407.0 672.0]\n",
      " [0.0 0.0 0.0 1.7320508075688774 0.0\n",
      "  'Petrol Vs Liquid Nitrogen | Freezing Experiment | പെട്രോളിനെ ഐസ് ആകാൻ പറ്റുമോ | M4 Tech |'\n",
      "  'kXiYSI7H2b0' '2022-08-23' 'tech' 71566.0 1426.0]]\n"
     ]
    }
   ],
   "source": [
    "print(x_train)"
   ]
  },
  {
   "cell_type": "code",
   "execution_count": 56,
   "id": "915fe68a",
   "metadata": {},
   "outputs": [
    {
     "name": "stdout",
     "output_type": "stream",
     "text": [
      "[[0.0 0.0 1.0 -0.5773502691896258 0.0\n",
      "  'My New House Gaming Setup is SICK!' '4mgePWWCAmA' '2022-08-23' 'tech'\n",
      "  63825.0 3338.0]]\n"
     ]
    }
   ],
   "source": [
    "print(x_test)"
   ]
  },
  {
   "cell_type": "code",
   "execution_count": null,
   "id": "0da9953d",
   "metadata": {},
   "outputs": [],
   "source": []
  },
  {
   "cell_type": "code",
   "execution_count": null,
   "id": "e1719ff5",
   "metadata": {},
   "outputs": [],
   "source": []
  }
 ],
 "metadata": {
  "kernelspec": {
   "display_name": "Python 3 (ipykernel)",
   "language": "python",
   "name": "python3"
  },
  "language_info": {
   "codemirror_mode": {
    "name": "ipython",
    "version": 3
   },
   "file_extension": ".py",
   "mimetype": "text/x-python",
   "name": "python",
   "nbconvert_exporter": "python",
   "pygments_lexer": "ipython3",
   "version": "3.10.9"
  }
 },
 "nbformat": 4,
 "nbformat_minor": 5
}
